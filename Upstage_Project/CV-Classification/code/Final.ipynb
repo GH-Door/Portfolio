{
 "cells": [
  {
   "cell_type": "code",
   "execution_count": 1,
   "id": "61bf6c5d",
   "metadata": {},
   "outputs": [],
   "source": [
    "import os\n",
    "import torch\n",
    "import pandas as pd\n",
    "import numpy as np\n",
    "\n",
    "from Load_Data import random_seed\n",
    "from Train import Trainer\n",
    "from Inference import Model_Ensemble, run_inference"
   ]
  },
  {
   "cell_type": "code",
   "execution_count": 2,
   "id": "646f795b",
   "metadata": {},
   "outputs": [],
   "source": [
    "# 시드 고정\n",
    "random_seed(42)\n",
    "\n",
    "# 기본 설정\n",
    "device = torch.device('cuda' if torch.cuda.is_available() else 'cpu')\n",
    "img_size = 384\n",
    "LR = 1e-5\n",
    "EPOCHS = 60\n",
    "BATCH_SIZE = 12\n",
    "Drop_out = 0.4\n",
    "weight_decay = 5e-4\n",
    "num_workers = 4\n",
    "num_classes = 17\n",
    "n_splits = 3\n",
    "patience = 5\n",
    "model_name = \"convnextv2_large.fcmae_ft_in22k_in1k_384\"\n",
    "# model_name = \"convnextv2_huge.fcmae_ft_in22k_in1k_512\"\n",
    "# model_name = \"convnext_large_in22ft1k\" # batch_size=14~16\n",
    "# model_name = \"convnext_base_in22ft1k\" # batch_size=32\n",
    "# model_name = \"maxvit_large_tf_384\"\n",
    "\n",
    "# 경로\n",
    "run_name = \"V18\"\n",
    "train_csv_path = \"../data/train_update2.csv\"\n",
    "test_csv_path = \"../data/sample_submission.csv\"\n",
    "original_train_path = \"../data/train/\"\n",
    "test_path = \"../data/test/\"\n",
    "model_save_path = f\"../model/{run_name}/\"\n",
    "augmented_save_path = f\"../data/augment_image/{run_name}-augmented\"\n",
    "augmented_csv_save_path = f\"../data/augment_csv/{run_name}-augmented.csv\"\n",
    "submission_path = f\"../data/submission/{run_name}-submission.csv\""
   ]
  },
  {
   "cell_type": "code",
   "execution_count": null,
   "id": "c3c6aede",
   "metadata": {},
   "outputs": [],
   "source": [
    "# 원본 데이터\n",
    "train_df = pd.read_csv(train_csv_path)\n",
    "test_df = pd.read_csv(test_csv_path)\n",
    "\n",
    "# Trainer 생성\n",
    "trainer = Trainer(\n",
    "    df=train_df,\n",
    "    original_data_path=original_train_path,\n",
    "    augmented_save_path=augmented_save_path,\n",
    "    augmented_csv_save_path=augmented_csv_save_path,\n",
    "    model_name=model_name,\n",
    "    epochs=EPOCHS,\n",
    "    batch_size=BATCH_SIZE,\n",
    "    lr=LR,\n",
    "    drop_out=Drop_out,\n",
    "    weight_decay=weight_decay,\n",
    "    img_size=img_size,\n",
    "    num_workers=num_workers,\n",
    "    device=device,\n",
    "    save_dir=model_save_path,\n",
    "    run_name_prefix=run_name,\n",
    "    num_classes=num_classes,\n",
    "    n_splits=n_splits,\n",
    "    patience=patience,\n",
    "    k_fold=True,\n",
    "    augmentation_target_count=450\n",
    ")\n",
    "\n",
    "# K-Fold 분할, 증강, 학습 모두 실행\n",
    "f1_df = trainer.run()"
   ]
  },
  {
   "cell_type": "code",
   "execution_count": null,
   "id": "8dd11597",
   "metadata": {},
   "outputs": [],
   "source": [
    "# 앙상블 모델\n",
    "# fold_weights = np.array([0.9416, 0.94768, 0.93204])\n",
    "fold_weights = f1_df[\"f1\"].values\n",
    "ensembler = Model_Ensemble(\n",
    "    model_name=model_name,\n",
    "    fold_paths_dir=model_save_path,\n",
    "    fold_weights=fold_weights,\n",
    "    num_classes=num_classes,\n",
    "    drop_out=Drop_out,\n",
    "    device=device,\n",
    "    k_fold=True\n",
    ")\n",
    "\n",
    "# 추론 실행 (TTA 적용)\n",
    "run_inference(\n",
    "    ensembler=ensembler,\n",
    "    submission_df=test_df.copy(),\n",
    "    test_path=test_path,\n",
    "    img_size=img_size,\n",
    "    save_path=submission_path, # 저장\n",
    "    batch_size=BATCH_SIZE,\n",
    "    num_workers=num_workers,\n",
    "    use_tta=True # TTA \n",
    ")"
   ]
  },
  {
   "cell_type": "code",
   "execution_count": 5,
   "id": "d5a22cb2",
   "metadata": {},
   "outputs": [
    {
     "name": "stdout",
     "output_type": "stream",
     "text": [
      "Loading 3 models from 'V15' group with weight: 0.2333 each...\n",
      "Loading 2 models from 'V18' group with weight: 0.1500 each...\n"
     ]
    },
    {
     "name": "stderr",
     "output_type": "stream",
     "text": [
      "Inference: 100%|██████████| 3140/3140 [46:58<00:00,  1.11it/s]"
     ]
    },
    {
     "name": "stdout",
     "output_type": "stream",
     "text": [
      "[✓] Saved submission to: ../data/submission/V18-submission.csv\n"
     ]
    },
    {
     "name": "stderr",
     "output_type": "stream",
     "text": [
      "\n"
     ]
    }
   ],
   "source": [
    "test_df = pd.read_csv(test_csv_path)\n",
    "model_groups = [\n",
    "    {\n",
    "        'version': 'V15', \n",
    "        'path_dir': '../model/V15',\n",
    "        'model_name': 'convnext_xlarge_in22ft1k', \n",
    "        'img_size': 512, \n",
    "        'group_weight': 0.7  # V15 그룹 전체에 70%의 가중치 할당\n",
    "    },\n",
    "    {\n",
    "        'version': 'V18', \n",
    "        'path_dir': '../model/V18',\n",
    "        'model_name': 'convnextv2_large.fcmae_ft_in22k_in1k_384', \n",
    "        'img_size': 384, \n",
    "        'group_weight': 0.3  # V18 그룹 전체에 30%의 가중치 할당\n",
    "    }\n",
    "]\n",
    "\n",
    "ensembler = Model_Ensemble(\n",
    "    model_groups=model_groups,\n",
    "    num_classes=num_classes,\n",
    "    drop_out=Drop_out,\n",
    "    device=device\n",
    ")\n",
    "\n",
    "run_inference(\n",
    "    ensembler=ensembler,\n",
    "    submission_df=test_df.copy(),\n",
    "    test_path=test_path,\n",
    "    save_path=submission_path, # 최종 제출 경로\n",
    "    batch_size=1, # 여러 모델을 처리하므로 배치 사이즈를 작게 설정\n",
    "    num_workers=num_workers,\n",
    "    use_tta=True\n",
    ")"
   ]
  }
 ],
 "metadata": {
  "kernelspec": {
   "display_name": "CV_Project",
   "language": "python",
   "name": "python3"
  },
  "language_info": {
   "codemirror_mode": {
    "name": "ipython",
    "version": 3
   },
   "file_extension": ".py",
   "mimetype": "text/x-python",
   "name": "python",
   "nbconvert_exporter": "python",
   "pygments_lexer": "ipython3",
   "version": "3.9.23"
  }
 },
 "nbformat": 4,
 "nbformat_minor": 5
}
